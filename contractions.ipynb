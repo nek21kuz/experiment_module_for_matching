{
  "nbformat": 4,
  "nbformat_minor": 0,
  "metadata": {
    "colab": {
      "provenance": []
    },
    "kernelspec": {
      "display_name": "Python 3",
      "name": "python3"
    },
    "language_info": {
      "name": "python"
    }
  },
  "cells": [
    {
      "cell_type": "code",
      "metadata": {
        "id": "hHgKReoUrgNH"
      },
      "source": [
        "!apt install libgraphviz-dev\n",
        "!pip install pygraphviz"
      ],
      "execution_count": null,
      "outputs": []
    },
    {
      "cell_type": "code",
      "source": [
        "!pip install xlrd"
      ],
      "metadata": {
        "id": "A44hyZQJoQFP"
      },
      "execution_count": null,
      "outputs": []
    },
    {
      "cell_type": "code",
      "source": [
        "!pip install --upgrade pandas"
      ],
      "metadata": {
        "id": "cQRQrivQnR1X"
      },
      "execution_count": null,
      "outputs": []
    },
    {
      "cell_type": "code",
      "metadata": {
        "id": "lM3LQURsWY1b"
      },
      "source": [
        "import networkx as nx\n",
        "import graphviz\n",
        "from graphviz import Graph, Source\n",
        "from networkx.drawing.nx_agraph import to_agraph\n",
        "from graphviz import Graph, Source\n",
        "\n",
        "def gprint(g):\n",
        "\n",
        "\n",
        "  B = np.array(g)\n",
        "\n",
        "  G = nx.from_numpy_array(B, parallel_edges=True, create_using=nx.MultiGraph)\n",
        "\n",
        "  G.graph['edge'] = {'arrowsize': '0.6', 'splines': 'curved'}\n",
        "  G.graph['graph'] = {'scale': '3'}\n",
        "\n",
        "\n",
        "  A = to_agraph(G)\n",
        "  A.layout('dot')\n",
        "  #A.draw('multi.png')\n",
        "  Source(A)"
      ],
      "execution_count": null,
      "outputs": []
    },
    {
      "cell_type": "code",
      "metadata": {
        "id": "1M6k28U34OIe"
      },
      "source": [
        "import numpy as np\n",
        "import itertools as it\n",
        "\n",
        "def dfs(g, visited, v=0):\n",
        "    num_visited = 1\n",
        "    visited[v] = True\n",
        "\n",
        "    neighbors = []\n",
        "    for idx, e in enumerate(g[v]):\n",
        "      if e != 0 and idx != v:\n",
        "        neighbors.append(idx)\n",
        "\n",
        "\n",
        "    for u in neighbors:\n",
        "        if not visited[u]:\n",
        "            num_visited += dfs(g, visited, u)\n",
        "\n",
        "    return num_visited\n",
        "\n",
        "def ptr(n, k, l):\n",
        "    if k < 1:\n",
        "        return\n",
        "    if k == 1:\n",
        "        if n >= l:\n",
        "            yield [n,]\n",
        "        return\n",
        "    for i in range(l, n + 1):\n",
        "        for result in ptr(n-i, k-1, i):\n",
        "            yield [i,] + result\n",
        "\n",
        "def ptr_nu(n, k):\n",
        "\n",
        "    if k < 1:\n",
        "        return\n",
        "    if k == 1:\n",
        "        yield [n,]\n",
        "        return\n",
        "    for i in range(0, n + 1):\n",
        "        for result in ptr_nu(n-i, k-1):\n",
        "            yield [i,] + result\n",
        "\n",
        "def sds(k):\n",
        "    s = []\n",
        "    d=1\n",
        "    while 2*k + 2*d <= 6*k:\n",
        "        s += [i for i in ptr(2*k+2*d, d, l=3)]\n",
        "        d += 1\n",
        "    return s\n",
        "\n",
        "def rec(idx, g, sol, full_graphs):\n",
        "    if g[idx-1][idx-1] % 2 != 0 :\n",
        "        #print(idx, *g,  end='\\n\\n', sep='\\n')\n",
        "        return\n",
        "\n",
        "    r = sol[idx] - sum(g[idx][:idx])\n",
        "\n",
        "    if idx == len(sol)-1:\n",
        "        if r >= 0:\n",
        "            g[idx][idx] = r\n",
        "            full_graphs.append(g.copy())\n",
        "            return\n",
        "        else:\n",
        "            return\n",
        "    for i in ptr_nu(r, len(sol) - idx):\n",
        "        new_s = g[idx][:idx] + i\n",
        "        g[idx] = new_s\n",
        "        for s in enumerate(g[idx+1:]):\n",
        "            g[s[0] + idx + 1] = s[1][0:idx] + [new_s[s[0] + idx + 1]] + s[1][idx+1:]\n",
        "        rec(idx+1, g, sol, full_graphs)\n",
        "\n",
        "def eq_str(l):\n",
        "  return [index for index, value in enumerate(l) if value in set([i for i in l if l.count(i) > 1])]\n",
        "\n",
        "def str_swap(m, per):\n",
        "  new = []\n",
        "  for i in per:\n",
        "    new.append(m[i])\n",
        "  return new\n",
        "\n",
        "def swap(m, per):\n",
        "  first = str_swap(m, per)\n",
        "  tr_first = [list(i) for i in zip(*first)]\n",
        "  second = str_swap(tr_first, per)\n",
        "  new = [list(i) for i in zip(*second)]\n",
        "  return new\n",
        "\n",
        "def main(k):\n",
        "    full_graphs = dict()\n",
        "\n",
        "    for sol in sds(k)[:]:\n",
        "        sol_graphs = []\n",
        "        n = len(sol)\n",
        "\n",
        "        if len(sol) == 1:\n",
        "            full_graphs[tuple(sol)] = [[list(sol)]]\n",
        "            continue\n",
        "        rec(0, [[0]*n for i in range(n)], sol, sol_graphs)\n",
        "\n",
        "        connected = []\n",
        "        for g in sol_graphs:\n",
        "            n = len(g)\n",
        "            if n == dfs(g, [False]*n):\n",
        "                connected.append(g)\n",
        "            else:\n",
        "                continue\n",
        "\n",
        "        i = 0\n",
        "        while i != len(connected):\n",
        "          g = connected[i]\n",
        "          for j in [k for k in it.permutations(range(n))][0:]:\n",
        "\n",
        "            if j == tuple(range(n)):\n",
        "              continue\n",
        "\n",
        "            s = swap(g, j)\n",
        "\n",
        "            if s == g:\n",
        "              continue\n",
        "\n",
        "            while s in connected:\n",
        "              connected.pop(connected.index(s))\n",
        "\n",
        "          i += 1\n",
        "\n",
        "        full_graphs[tuple(sol)] = connected\n",
        "        #print(sol, len(connected))\n",
        "\n",
        "    return full_graphs\n",
        "\n",
        "def mprint(m):\n",
        "  for i in m:\n",
        "    print(i, sep=', ')\n",
        "  print()\n",
        "\n",
        "def results(f):\n",
        "  s = 0\n",
        "  for i in f:\n",
        "\n",
        "    print('степенная поледовательность: (2, ..., 2, '+','.join([str(j) for j in i])+')')\n",
        "    print('количество неизоморфных стяжек:', len(f[i]))\n",
        "    s += len(f[i])\n",
        "    print()\n",
        "\n",
        "  print()\n",
        "  print('всего неизоморфных стяжек:', s)\n",
        "\n",
        "def all_graphs(f):\n",
        "  idx = 1\n",
        "  for s in f.keys():\n",
        "      for i in f[s]:\n",
        "        print(idx, s)\n",
        "        mprint(i)\n",
        "        idx += 1\n",
        "\n",
        "def all_graphs_sol(f, sol):\n",
        "  idx = 1\n",
        "  for s in sol:\n",
        "    for i in f[s]:\n",
        "      print(idx, s)\n",
        "      mprint(i)\n",
        "      idx += 1\n",
        "\n",
        "def print_all_graphs(f, sol): #не работает\n",
        "  idx = 1\n",
        "  for s in sol:\n",
        "    for i in f[s]:\n",
        "      print(idx, s)\n",
        "      gprint(i)\n",
        "      idx += 1"
      ],
      "execution_count": null,
      "outputs": []
    },
    {
      "cell_type": "code",
      "source": [
        "sds(4)"
      ],
      "metadata": {
        "colab": {
          "base_uri": "https://localhost:8080/"
        },
        "id": "DL62358eHdFg",
        "outputId": "8201f410-ed81-4a36-8411-36d9cf9aa4c5"
      },
      "execution_count": null,
      "outputs": [
        {
          "output_type": "execute_result",
          "data": {
            "text/plain": [
              "[[10],\n",
              " [3, 9],\n",
              " [4, 8],\n",
              " [5, 7],\n",
              " [6, 6],\n",
              " [3, 3, 8],\n",
              " [3, 4, 7],\n",
              " [3, 5, 6],\n",
              " [4, 4, 6],\n",
              " [4, 5, 5],\n",
              " [3, 3, 3, 7],\n",
              " [3, 3, 4, 6],\n",
              " [3, 3, 5, 5],\n",
              " [3, 4, 4, 5],\n",
              " [4, 4, 4, 4],\n",
              " [3, 3, 3, 3, 6],\n",
              " [3, 3, 3, 4, 5],\n",
              " [3, 3, 4, 4, 4],\n",
              " [3, 3, 3, 3, 3, 5],\n",
              " [3, 3, 3, 3, 4, 4],\n",
              " [3, 3, 3, 3, 3, 3, 4],\n",
              " [3, 3, 3, 3, 3, 3, 3, 3]]"
            ]
          },
          "metadata": {},
          "execution_count": 10
        }
      ]
    },
    {
      "cell_type": "code",
      "metadata": {
        "id": "i68AvgerIY5P"
      },
      "source": [
        "f = main(3)"
      ],
      "execution_count": null,
      "outputs": []
    },
    {
      "cell_type": "code",
      "source": [
        "results(f)"
      ],
      "metadata": {
        "colab": {
          "base_uri": "https://localhost:8080/"
        },
        "id": "WjnbZ2m-7tgt",
        "outputId": "f51326dc-f62d-45a9-f39f-ba00d17344e4"
      },
      "execution_count": null,
      "outputs": [
        {
          "output_type": "stream",
          "name": "stdout",
          "text": [
            "степенная поледовательность: (2, ..., 2, 8)\n",
            "количество неизоморфных стяжек: 1\n",
            "\n",
            "степенная поледовательность: (2, ..., 2, 3,7)\n",
            "количество неизоморфных стяжек: 2\n",
            "\n",
            "степенная поледовательность: (2, ..., 2, 4,6)\n",
            "количество неизоморфных стяжек: 2\n",
            "\n",
            "степенная поледовательность: (2, ..., 2, 5,5)\n",
            "количество неизоморфных стяжек: 3\n",
            "\n",
            "степенная поледовательность: (2, ..., 2, 3,3,6)\n",
            "количество неизоморфных стяжек: 6\n",
            "\n",
            "степенная поледовательность: (2, ..., 2, 3,4,5)\n",
            "количество неизоморфных стяжек: 10\n",
            "\n",
            "степенная поледовательность: (2, ..., 2, 4,4,4)\n",
            "количество неизоморфных стяжек: 4\n",
            "\n",
            "степенная поледовательность: (2, ..., 2, 3,3,3,5)\n",
            "количество неизоморфных стяжек: 14\n",
            "\n",
            "степенная поледовательность: (2, ..., 2, 3,3,4,4)\n",
            "количество неизоморфных стяжек: 22\n",
            "\n",
            "степенная поледовательность: (2, ..., 2, 3,3,3,3,4)\n",
            "количество неизоморфных стяжек: 30\n",
            "\n",
            "степенная поледовательность: (2, ..., 2, 3,3,3,3,3,3)\n",
            "количество неизоморфных стяжек: 17\n",
            "\n",
            "\n",
            "всего неизоморфных стяжек: 111\n"
          ]
        }
      ]
    },
    {
      "cell_type": "code",
      "source": [
        "all_graphs(f)"
      ],
      "metadata": {
        "id": "mFywvlOqvFu1"
      },
      "execution_count": null,
      "outputs": []
    },
    {
      "cell_type": "markdown",
      "metadata": {
        "id": "wryDmE8XIlLL"
      },
      "source": [
        "### Удаление лишних стяжек\n",
        "\n"
      ]
    },
    {
      "cell_type": "code",
      "source": [
        "def tr_main(g):\n",
        "  res = False\n",
        "  for idx, s in enumerate(g):\n",
        "    if sum(s) > 3:\n",
        "      if s[idx] > 0:\n",
        "        res = True\n",
        "      elif max(s) > 1:\n",
        "        res = True\n",
        "  return res"
      ],
      "metadata": {
        "id": "EM9Hd3t_z6rA"
      },
      "execution_count": null,
      "outputs": []
    },
    {
      "cell_type": "code",
      "metadata": {
        "id": "wqwkba6iPOMv"
      },
      "source": [
        "f_new = dict()\n",
        "\n",
        "for i in f:\n",
        "  new = []\n",
        "  for g in f[i]:\n",
        "    if tr_main(g):\n",
        "      continue\n",
        "    else:\n",
        "      new.append(g)\n",
        "\n",
        "  f_new[i] = new"
      ],
      "execution_count": null,
      "outputs": []
    },
    {
      "cell_type": "code",
      "metadata": {
        "id": "G0YKNmdHBucX",
        "colab": {
          "base_uri": "https://localhost:8080/"
        },
        "outputId": "d17139b3-bc13-4437-fcdf-07d305dc4b12"
      },
      "source": [
        "results(f_new)"
      ],
      "execution_count": null,
      "outputs": [
        {
          "output_type": "stream",
          "name": "stdout",
          "text": [
            "степенная поледовательность: (2, ..., 2, 8)\n",
            "количество неизоморфных стяжек: 0\n",
            "\n",
            "степенная поледовательность: (2, ..., 2, 3,7)\n",
            "количество неизоморфных стяжек: 0\n",
            "\n",
            "степенная поледовательность: (2, ..., 2, 4,6)\n",
            "количество неизоморфных стяжек: 0\n",
            "\n",
            "степенная поледовательность: (2, ..., 2, 5,5)\n",
            "количество неизоморфных стяжек: 0\n",
            "\n",
            "степенная поледовательность: (2, ..., 2, 3,3,6)\n",
            "количество неизоморфных стяжек: 0\n",
            "\n",
            "степенная поледовательность: (2, ..., 2, 3,4,5)\n",
            "количество неизоморфных стяжек: 0\n",
            "\n",
            "степенная поледовательность: (2, ..., 2, 4,4,4)\n",
            "количество неизоморфных стяжек: 0\n",
            "\n",
            "степенная поледовательность: (2, ..., 2, 3,3,3,5)\n",
            "количество неизоморфных стяжек: 0\n",
            "\n",
            "степенная поледовательность: (2, ..., 2, 3,3,4,4)\n",
            "количество неизоморфных стяжек: 0\n",
            "\n",
            "степенная поледовательность: (2, ..., 2, 3,3,3,3,4)\n",
            "количество неизоморфных стяжек: 5\n",
            "\n",
            "степенная поледовательность: (2, ..., 2, 3,3,3,3,3,3)\n",
            "количество неизоморфных стяжек: 17\n",
            "\n",
            "\n",
            "всего неизоморфных стяжек: 22\n"
          ]
        }
      ]
    },
    {
      "cell_type": "code",
      "source": [
        "all_graphs_sol(f_new, [(3, 3, 3, 3, 4)])"
      ],
      "metadata": {
        "colab": {
          "base_uri": "https://localhost:8080/"
        },
        "id": "HfnCSxmS2qvs",
        "outputId": "3ec471b8-d4bb-4005-9b22-819ba430c6f8"
      },
      "execution_count": null,
      "outputs": [
        {
          "output_type": "stream",
          "name": "stdout",
          "text": [
            "1 (3, 3, 3, 3, 4)\n",
            "[0, 0, 0, 2, 1]\n",
            "[0, 0, 2, 0, 1]\n",
            "[0, 2, 0, 0, 1]\n",
            "[2, 0, 0, 0, 1]\n",
            "[1, 1, 1, 1, 0]\n",
            "\n",
            "2 (3, 3, 3, 3, 4)\n",
            "[0, 0, 0, 2, 1]\n",
            "[0, 2, 0, 0, 1]\n",
            "[0, 0, 2, 0, 1]\n",
            "[2, 0, 0, 0, 1]\n",
            "[1, 1, 1, 1, 0]\n",
            "\n",
            "3 (3, 3, 3, 3, 4)\n",
            "[0, 0, 1, 1, 1]\n",
            "[0, 0, 1, 1, 1]\n",
            "[1, 1, 0, 0, 1]\n",
            "[1, 1, 0, 0, 1]\n",
            "[1, 1, 1, 1, 0]\n",
            "\n",
            "4 (3, 3, 3, 3, 4)\n",
            "[0, 0, 1, 1, 1]\n",
            "[0, 2, 0, 0, 1]\n",
            "[1, 0, 0, 1, 1]\n",
            "[1, 0, 1, 0, 1]\n",
            "[1, 1, 1, 1, 0]\n",
            "\n",
            "5 (3, 3, 3, 3, 4)\n",
            "[2, 0, 0, 0, 1]\n",
            "[0, 2, 0, 0, 1]\n",
            "[0, 0, 2, 0, 1]\n",
            "[0, 0, 0, 2, 1]\n",
            "[1, 1, 1, 1, 0]\n",
            "\n"
          ]
        }
      ]
    },
    {
      "cell_type": "markdown",
      "source": [
        "### Рисование\n"
      ],
      "metadata": {
        "id": "57e59CPdy3Wj"
      }
    },
    {
      "cell_type": "code",
      "metadata": {
        "id": "BbVivxJnr226"
      },
      "source": [
        "num = 0\n",
        "for i in f:\n",
        "  for j in f[i]:\n",
        "    num += 1\n",
        "    g = j\n",
        "\n",
        "    for n, i  in enumerate(g):\n",
        "      i[n] = int(i[n]/2)\n",
        "      g[n] = i\n",
        "\n",
        "    B = np.array(g)\n",
        "\n",
        "    G = nx.from_numpy_array(B, parallel_edges=True, create_using=nx.MultiGraph)\n",
        "\n",
        "    G.graph['edge'] = {'arrowsize': '0.6', 'splines': 'curved'}\n",
        "    G.graph['graph'] = {'scale': '3'}\n",
        "\n",
        "\n",
        "    A = to_agraph(G)\n",
        "    A.layout('dot')\n",
        "    A.draw(f'/content/drive/MyDrive/all_graphs/multi_{num}.png')\n",
        "    #Source(A)"
      ],
      "execution_count": null,
      "outputs": []
    }
  ]
}